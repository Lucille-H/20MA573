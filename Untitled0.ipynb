{
  "nbformat": 4,
  "nbformat_minor": 0,
  "metadata": {
    "colab": {
      "name": "Untitled0.ipynb",
      "provenance": [],
      "authorship_tag": "ABX9TyMI5QlmjLoGbFjfnT3wK/M6",
      "include_colab_link": true
    },
    "kernelspec": {
      "name": "python3",
      "display_name": "Python 3"
    }
  },
  "cells": [
    {
      "cell_type": "markdown",
      "metadata": {
        "id": "view-in-github",
        "colab_type": "text"
      },
      "source": [
        "<a href=\"https://colab.research.google.com/github/Lucille-H/20MA573/blob/master/Untitled0.ipynb\" target=\"_parent\"><img src=\"https://colab.research.google.com/assets/colab-badge.svg\" alt=\"Open In Colab\"/></a>"
      ]
    },
    {
      "cell_type": "code",
      "metadata": {
        "id": "fbDqQu8Rois_",
        "colab_type": "code",
        "colab": {}
      },
      "source": [
        ""
      ],
      "execution_count": 0,
      "outputs": []
    },
    {
      "cell_type": "markdown",
      "metadata": {
        "id": "s1Y-Y0gOo2ql",
        "colab_type": "text"
      },
      "source": [
        "-task\n",
        "\n",
        "we will define a function of\n",
        "$$\\phi(x) = \\frac{1}{\\sqrt{2\\pi}}e^{-\\frac(x^2){2}}$$\n",
        "//如果要用方程的话要用双$$开头（换一行），或者单$（不换行）\n"
      ]
    },
    {
      "cell_type": "code",
      "metadata": {
        "id": "NNsSTxCSoqcg",
        "colab_type": "code",
        "colab": {}
      },
      "source": [
        "import numpy as np;\n",
        "\n",
        "def phi(x):\n",
        "  out = 1./np.sqrt(2.*np.pi)*np.exp(-x**2/2.)\n",
        "  return out\n",
        "  # . means float after the number,* means multiply，**means"
      ],
      "execution_count": 0,
      "outputs": []
    },
    {
      "cell_type": "code",
      "metadata": {
        "id": "HzLXG0ZkwSs3",
        "colab_type": "code",
        "colab": {}
      },
      "source": [
        ""
      ],
      "execution_count": 0,
      "outputs": []
    },
    {
      "cell_type": "code",
      "metadata": {
        "id": "gAQozIDWoqlb",
        "colab_type": "code",
        "colab": {
          "base_uri": "https://localhost:8080/",
          "height": 493
        },
        "outputId": "bb52fd75-2bfe-4b3f-be2b-bb54231ed226"
      },
      "source": [
        "import matplotlib.pyplot as plt\n",
        "%matplotlib inline\n",
        "\n",
        "x_cod = np.linspace(5,5,111)\n",
        "y_cod = phi(x_cod)\n",
        "# plt.plot(x_cod,y_cod)\n",
        "print(y_cod)"
      ],
      "execution_count": 26,
      "outputs": [
        {
          "output_type": "stream",
          "text": [
            "[1.48671951e-06 1.48671951e-06 1.48671951e-06 1.48671951e-06\n",
            " 1.48671951e-06 1.48671951e-06 1.48671951e-06 1.48671951e-06\n",
            " 1.48671951e-06 1.48671951e-06 1.48671951e-06 1.48671951e-06\n",
            " 1.48671951e-06 1.48671951e-06 1.48671951e-06 1.48671951e-06\n",
            " 1.48671951e-06 1.48671951e-06 1.48671951e-06 1.48671951e-06\n",
            " 1.48671951e-06 1.48671951e-06 1.48671951e-06 1.48671951e-06\n",
            " 1.48671951e-06 1.48671951e-06 1.48671951e-06 1.48671951e-06\n",
            " 1.48671951e-06 1.48671951e-06 1.48671951e-06 1.48671951e-06\n",
            " 1.48671951e-06 1.48671951e-06 1.48671951e-06 1.48671951e-06\n",
            " 1.48671951e-06 1.48671951e-06 1.48671951e-06 1.48671951e-06\n",
            " 1.48671951e-06 1.48671951e-06 1.48671951e-06 1.48671951e-06\n",
            " 1.48671951e-06 1.48671951e-06 1.48671951e-06 1.48671951e-06\n",
            " 1.48671951e-06 1.48671951e-06 1.48671951e-06 1.48671951e-06\n",
            " 1.48671951e-06 1.48671951e-06 1.48671951e-06 1.48671951e-06\n",
            " 1.48671951e-06 1.48671951e-06 1.48671951e-06 1.48671951e-06\n",
            " 1.48671951e-06 1.48671951e-06 1.48671951e-06 1.48671951e-06\n",
            " 1.48671951e-06 1.48671951e-06 1.48671951e-06 1.48671951e-06\n",
            " 1.48671951e-06 1.48671951e-06 1.48671951e-06 1.48671951e-06\n",
            " 1.48671951e-06 1.48671951e-06 1.48671951e-06 1.48671951e-06\n",
            " 1.48671951e-06 1.48671951e-06 1.48671951e-06 1.48671951e-06\n",
            " 1.48671951e-06 1.48671951e-06 1.48671951e-06 1.48671951e-06\n",
            " 1.48671951e-06 1.48671951e-06 1.48671951e-06 1.48671951e-06\n",
            " 1.48671951e-06 1.48671951e-06 1.48671951e-06 1.48671951e-06\n",
            " 1.48671951e-06 1.48671951e-06 1.48671951e-06 1.48671951e-06\n",
            " 1.48671951e-06 1.48671951e-06 1.48671951e-06 1.48671951e-06\n",
            " 1.48671951e-06 1.48671951e-06 1.48671951e-06 1.48671951e-06\n",
            " 1.48671951e-06 1.48671951e-06 1.48671951e-06 1.48671951e-06\n",
            " 1.48671951e-06 1.48671951e-06 1.48671951e-06]\n"
          ],
          "name": "stdout"
        }
      ]
    },
    {
      "cell_type": "code",
      "metadata": {
        "id": "_DbICF0poqst",
        "colab_type": "code",
        "colab": {
          "base_uri": "https://localhost:8080/",
          "height": 282
        },
        "outputId": "bfd895f0-a225-4232-8071-e8d1753a9628"
      },
      "source": [
        "plt.plot(x_cod, y_cod)"
      ],
      "execution_count": 24,
      "outputs": [
        {
          "output_type": "execute_result",
          "data": {
            "text/plain": [
              "[<matplotlib.lines.Line2D at 0x7feabe3bfe80>]"
            ]
          },
          "metadata": {
            "tags": []
          },
          "execution_count": 24
        },
        {
          "output_type": "display_data",
          "data": {
            "image/png": "[encoded data removed]",
            "text/plain": [
              "<Figure size 432x288 with 1 Axes>"
            ]
          },
          "metadata": {
            "tags": []
          }
        }
      ]
    },
    {
      "cell_type": "code",
      "metadata": {
        "id": "f38axoOIoqzw",
        "colab_type": "code",
        "colab": {}
      },
      "source": [
        ""
      ],
      "execution_count": 0,
      "outputs": []
    }
  ]
}